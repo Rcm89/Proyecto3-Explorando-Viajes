{
 "cells": [
  {
   "cell_type": "markdown",
   "metadata": {},
   "source": [
    "Salimos de Madrid a Barcelona y Santiago de Compostela. Buscamos información de vuelos, alojamientos y actividades. Usamos dos apis y una web (se puede usar también dos webs y una ap). viaje 3 días."
   ]
  },
  {
   "cell_type": "markdown",
   "metadata": {},
   "source": [
    "1er paso elegir web que escrapear. No elegir sky scarapper ni trip advisor como web a escrapear"
   ]
  },
  {
   "cell_type": "markdown",
   "metadata": {},
   "source": [
    "Paginas web candidatas a escrapear\n",
    "    - https://feverup.com/es/barcelona?srsltid=AfmBOoodMcRV0dhtM9hp8YTlzX95bhg6Honac_KMdCe6eCAkp1Kcu0eW\n"
   ]
  },
  {
   "cell_type": "code",
   "execution_count": 29,
   "metadata": {},
   "outputs": [
    {
     "name": "stdout",
     "output_type": "stream",
     "text": [
      "Requirement already satisfied: pandas in c:\\users\\administrador\\anaconda3\\envs\\proyecto_viajes\\lib\\site-packages (2.2.3)\n",
      "Requirement already satisfied: numpy>=1.26.0 in c:\\users\\administrador\\anaconda3\\envs\\proyecto_viajes\\lib\\site-packages (from pandas) (2.1.2)\n",
      "Requirement already satisfied: python-dateutil>=2.8.2 in c:\\users\\administrador\\appdata\\roaming\\python\\python312\\site-packages (from pandas) (2.9.0.post0)\n",
      "Requirement already satisfied: pytz>=2020.1 in c:\\users\\administrador\\anaconda3\\envs\\proyecto_viajes\\lib\\site-packages (from pandas) (2024.2)\n",
      "Requirement already satisfied: tzdata>=2022.7 in c:\\users\\administrador\\anaconda3\\envs\\proyecto_viajes\\lib\\site-packages (from pandas) (2024.2)\n",
      "Requirement already satisfied: six>=1.5 in c:\\users\\administrador\\appdata\\roaming\\python\\python312\\site-packages (from python-dateutil>=2.8.2->pandas) (1.16.0)\n"
     ]
    }
   ],
   "source": [
    "!pip install pandas"
   ]
  },
  {
   "cell_type": "code",
   "execution_count": 30,
   "metadata": {},
   "outputs": [],
   "source": [
    "# Importamos las librerías que previsiblemente necesitaremos\n",
    "import pandas as pd\n",
    "import numpy as np\n",
    "# from src.support import obtener_df_coordenadas, buscar_lugares, obtener_servicios_municipios\n",
    "# Uso de API's\n",
    "# -----------------------------------------------------------------------\n",
    "import requests\n",
    "\n",
    "# Para incluir una barra de proceso en for loops\n",
    "# -----------------------------------------------------------------------\n",
    "from tqdm import tqdm\n",
    "\n",
    "\n",
    "# Para introducir tiempo entre las llamadas\n",
    "# -----------------------------------------------------------------------\n",
    "from time import sleep\n",
    "\n",
    "\n",
    "# Para trabajar con archivos dotenv y los tokens\n",
    "# -----------------------------------------------------------------------\n",
    "import os\n",
    "import dotenv\n",
    "dotenv.load_dotenv()\n",
    "\n",
    "# Importamos BeautifulSoup\n",
    "# ------------------------------------------------------------------------\n",
    "from bs4 import BeautifulSoup \n",
    "#from src import soporte_beautifullsoup as sb\n",
    "\n",
    "# librerias adicionales\n",
    "from time import sleep\n",
    "import random\n",
    "import datetime\n",
    "\n",
    "# Importar librerías para automatización de navegadores web con Selenium\n",
    "# -----------------------------------------------------------------------\n",
    "from selenium import webdriver  # Selenium es una herramienta para automatizar la interacción con navegadores web.\n",
    "from webdriver_manager.chrome import ChromeDriverManager  # ChromeDriverManager gestiona la instalación del controlador de Chrome.\n",
    "from selenium.webdriver.common.keys import Keys  # Keys es útil para simular eventos de teclado en Selenium.\n",
    "from selenium.webdriver.support.ui import Select  # Select se utiliza para interactuar con elementos <select> en páginas web.\n",
    "from selenium.webdriver.support.ui import WebDriverWait\n",
    "from selenium.webdriver.support import expected_conditions as EC\n",
    "from selenium.common.exceptions import NoSuchElementException # Excepciones comunes de selenium que nos podemos encontrar "
   ]
  }
 ],
 "metadata": {
  "kernelspec": {
   "display_name": "Proyecto_Viajes",
   "language": "python",
   "name": "python3"
  },
  "language_info": {
   "codemirror_mode": {
    "name": "ipython",
    "version": 3
   },
   "file_extension": ".py",
   "mimetype": "text/x-python",
   "name": "python",
   "nbconvert_exporter": "python",
   "pygments_lexer": "ipython3",
   "version": "3.12.7"
  }
 },
 "nbformat": 4,
 "nbformat_minor": 2
}
