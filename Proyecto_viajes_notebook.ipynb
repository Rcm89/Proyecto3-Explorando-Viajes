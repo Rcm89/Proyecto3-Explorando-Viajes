{
 "cells": [
  {
   "cell_type": "markdown",
   "metadata": {},
   "source": [
    "Salimos de Madrid a Barcelona y Santiago de Compostela. Buscamos información de vuelos, alojamientos y actividades. Usamos dos apis y una web (se puede usar también dos webs y una ap). viaje 3 días."
   ]
  },
  {
   "cell_type": "markdown",
   "metadata": {},
   "source": [
    "1er paso elegir web que escrapear. No elegir sky scarapper ni trip advisor como web a escrapear"
   ]
  },
  {
   "cell_type": "markdown",
   "metadata": {},
   "source": [
    "Paginas web candidatas a escrapear\n",
    "    - https://feverup.com/es/barcelona?srsltid=AfmBOoodMcRV0dhtM9hp8YTlzX95bhg6Honac_KMdCe6eCAkp1Kcu0eW\n"
   ]
  },
  {
   "cell_type": "code",
   "execution_count": 1,
   "metadata": {},
   "outputs": [
    {
     "name": "stdout",
     "output_type": "stream",
     "text": [
      "Package            Version\n",
      "------------------ -----------\n",
      "asttokens          2.4.1\n",
      "attrs              24.2.0\n",
      "beautifulsoup4     4.12.3\n",
      "certifi            2024.8.30\n",
      "cffi               1.17.1\n",
      "charset-normalizer 3.3.2\n",
      "colorama           0.4.6\n",
      "comm               0.2.2\n",
      "debugpy            1.8.6\n",
      "decorator          5.1.1\n",
      "distlib            0.3.8\n",
      "executing          2.1.0\n",
      "filelock           3.16.1\n",
      "h11                0.14.0\n",
      "idna               3.10\n",
      "ipykernel          6.29.5\n",
      "ipython            8.27.0\n",
      "jedi               0.19.1\n",
      "jupyter_client     8.6.3\n",
      "jupyter_core       5.7.2\n",
      "matplotlib-inline  0.1.7\n",
      "nest-asyncio       1.6.0\n",
      "numpy              2.1.2\n",
      "outcome            1.3.0.post0\n",
      "packaging          24.1\n",
      "pandas             2.2.3\n",
      "parso              0.8.4\n",
      "pip                24.2\n",
      "platformdirs       4.3.6\n",
      "prompt_toolkit     3.0.48\n",
      "psutil             6.0.0\n",
      "pure_eval          0.2.3\n",
      "pycparser          2.22\n",
      "Pygments           2.18.0\n",
      "PySocks            1.7.1\n",
      "python-dateutil    2.9.0.post0\n",
      "python-dotenv      1.0.1\n",
      "pytz               2024.2\n",
      "pywin32            306\n",
      "pyzmq              26.2.0\n",
      "requests           2.32.3\n",
      "selenium           4.25.0\n",
      "setuptools         75.1.0\n",
      "six                1.16.0\n",
      "sniffio            1.3.1\n",
      "sortedcontainers   2.4.0\n",
      "soupsieve          2.6\n",
      "stack-data         0.6.3\n",
      "tornado            6.4.1\n",
      "tqdm               4.66.5\n",
      "traitlets          5.14.3\n",
      "trio               0.27.0\n",
      "trio-websocket     0.11.1\n",
      "typing_extensions  4.12.2\n",
      "tzdata             2024.2\n",
      "urllib3            2.2.3\n",
      "virtualenv         20.26.6\n",
      "wcwidth            0.2.13\n",
      "webdriver-manager  4.0.2\n",
      "websocket-client   1.8.0\n",
      "wheel              0.44.0\n",
      "wsproto            1.2.0\n",
      "Note: you may need to restart the kernel to use updated packages.\n"
     ]
    }
   ],
   "source": [
    "pip list"
   ]
  },
  {
   "cell_type": "code",
   "execution_count": 2,
   "metadata": {},
   "outputs": [
    {
     "name": "stdout",
     "output_type": "stream",
     "text": [
      "Requirement already satisfied: pandas in c:\\users\\administrador\\anaconda3\\envs\\proyecto_viajes\\lib\\site-packages (2.2.3)\n",
      "Requirement already satisfied: numpy>=1.26.0 in c:\\users\\administrador\\anaconda3\\envs\\proyecto_viajes\\lib\\site-packages (from pandas) (2.1.2)\n",
      "Requirement already satisfied: python-dateutil>=2.8.2 in c:\\users\\administrador\\appdata\\roaming\\python\\python312\\site-packages (from pandas) (2.9.0.post0)\n",
      "Requirement already satisfied: pytz>=2020.1 in c:\\users\\administrador\\anaconda3\\envs\\proyecto_viajes\\lib\\site-packages (from pandas) (2024.2)\n",
      "Requirement already satisfied: tzdata>=2022.7 in c:\\users\\administrador\\anaconda3\\envs\\proyecto_viajes\\lib\\site-packages (from pandas) (2024.2)\n",
      "Requirement already satisfied: six>=1.5 in c:\\users\\administrador\\appdata\\roaming\\python\\python312\\site-packages (from python-dateutil>=2.8.2->pandas) (1.16.0)\n"
     ]
    }
   ],
   "source": [
    "!pip install pandas"
   ]
  },
  {
   "cell_type": "code",
   "execution_count": 3,
   "metadata": {},
   "outputs": [],
   "source": [
    "# Importamos las librerías que previsiblemente necesitaremos\n",
    "import pandas as pd\n",
    "import numpy as np\n",
    "# from src.support import obtener_df_coordenadas, buscar_lugares, obtener_servicios_municipios\n",
    "# Uso de API's\n",
    "# -----------------------------------------------------------------------\n",
    "import requests\n",
    "\n",
    "# Para incluir una barra de proceso en for loops\n",
    "# -----------------------------------------------------------------------\n",
    "from tqdm import tqdm\n",
    "\n",
    "\n",
    "# Para introducir tiempo entre las llamadas\n",
    "# -----------------------------------------------------------------------\n",
    "from time import sleep\n",
    "\n",
    "\n",
    "# Para trabajar con archivos dotenv y los tokens\n",
    "# -----------------------------------------------------------------------\n",
    "import os\n",
    "import dotenv\n",
    "dotenv.load_dotenv()\n",
    "\n",
    "# Importamos BeautifulSoup\n",
    "# ------------------------------------------------------------------------\n",
    "from bs4 import BeautifulSoup \n",
    "#from src import soporte_beautifullsoup as sb\n",
    "\n",
    "# librerias adicionales\n",
    "from time import sleep\n",
    "import random\n",
    "import datetime\n",
    "\n",
    "# Importar librerías para automatización de navegadores web con Selenium\n",
    "# -----------------------------------------------------------------------\n",
    "from selenium import webdriver  # Selenium es una herramienta para automatizar la interacción con navegadores web.\n",
    "from webdriver_manager.chrome import ChromeDriverManager  # ChromeDriverManager gestiona la instalación del controlador de Chrome.\n",
    "from selenium.webdriver.common.keys import Keys  # Keys es útil para simular eventos de teclado en Selenium.\n",
    "from selenium.webdriver.support.ui import Select  # Select se utiliza para interactuar con elementos <select> en páginas web.\n",
    "from selenium.webdriver.support.ui import WebDriverWait\n",
    "from selenium.webdriver.support import expected_conditions as EC\n",
    "from selenium.common.exceptions import NoSuchElementException # Excepciones comunes de selenium que nos podemos encontrar "
   ]
  },
  {
   "cell_type": "markdown",
   "metadata": {},
   "source": [
    "\"\"\"\n",
    "# Solicitar la fecha al usuario en el formato dd/mm/yyyy\n",
    "fecha = input(\"Ingresa una fecha en formato dd/mm/yyyy: \")\n",
    "\n",
    "# Dividir la fecha en día, mes y año\n",
    "dia, mes, año = fecha.split('/')\n",
    "\n",
    "# Mostrar los resultados\n",
    "print(f\"Día: {dia}\")\n",
    "print(f\"Mes: {mes}\")\n",
    "print(f\"Año: {año}\")\n",
    "\"\"\""
   ]
  },
  {
   "cell_type": "code",
   "execution_count": 4,
   "metadata": {},
   "outputs": [],
   "source": [
    "def esperar_y_hacer_click(drivers, ruta_xpath):\n",
    "    \"\"\"\n",
    "    Espera hasta que un elemento esté presente en la página y realiza un clic en él.\n",
    "\n",
    "    Args:\n",
    "        drivers (WebDriver): El objeto del navegador (WebDriver) que está siendo utilizado para controlar la página.\n",
    "        ruta_xpath (str): El XPath del elemento que se está buscando en la página.\n",
    "\n",
    "    Returns:\n",
    "        WebElement: El botón o elemento sobre el cual se hizo clic. Retorna `None` si el elemento no se encuentra después de 5 intentos.\n",
    "    \"\"\"\n",
    "    \n",
    "    boton = None\n",
    "    intentos = 0\n",
    "    while True and intentos <= 5:\n",
    "        try:\n",
    "            boton = WebDriverWait(drivers, 10).until(EC.presence_of_element_located((\"xpath\", ruta_xpath)))\n",
    "            sleep(2)\n",
    "            boton.click()\n",
    "            break\n",
    "        except Exception as e:\n",
    "            intentos += 1\n",
    "            print(f\"Intento {intentos}: No se ha podido encontrar el botón. Error: {e}\")\n",
    "            continue\n",
    "    \n",
    "    return boton\n"
   ]
  },
  {
   "cell_type": "markdown",
   "metadata": {},
   "source": [
    "# Inicializamos un navegador web Chrome a través de WebDriver\n",
    "driver = webdriver.Chrome()\n",
    "\n",
    "# Configuramos el tiempo de espera implícito a 10 segundos\n",
    "driver.implicitly_wait(10)\n",
    "\n",
    "# Definimos una variable con la url que de la que vamos a extraer la información\n",
    "#url_iberia = f\"https://www.iberia.com/flights/?market=ES&language=es&appliesOMB=false&splitEndCity=false&initializedOMB=true&flexible=true&TRIP_TYPE=2&BEGIN_CITY_01=MAD&END_CITY_01=BCN&nombreOrigen=Madrid&nombreDestino=Barcelona&BEGIN_DAY_01={dia}&BEGIN_MONTH_01={año+mes}&BEGIN_YEAR_01={año}&END_DAY_01={int(dia)+3}&END_MONTH_01={año+mes}&END_YEAR_01={año}&FARE_TYPE=R&quadrigam=IBHMPA&ADT=2&CHD=0&INF=0&BNN=0&YTH=0&YCD=0&residentCode=&familianumerosa=&BV_UseBVCookie=no&boton=Buscar&bookingMarket=ES#!/availability\"\n",
    "url_iberia = f\"https://www.iberia.com/\"\n",
    "\n",
    "sleep(random.randint(1,5))\n",
    "# Navegamos a la página web definida en la variable url\n",
    "driver.get(url_iberia)\n",
    "# Aceptamos las cookies\n",
    "boton_cookies = driver.find_element(\"css selector\", '#onetrust-accept-btn-handler')\n",
    "boton_cookies.click()\n",
    "sleep(random.randint(1,5))\n",
    "iframe = WebDriverWait(driver, 10).until(EC.presence_of_element_located(('xpath', '//*[@id=\"sp_message_iframe_1165301\"]')))\n",
    "driver.switch_to.frame(iframe)\n",
    "esperar_y_hacer_click(driver, '//*[@id=\"m-tab_01\"]/form/fieldset/div[1]/div/div/div/div/div[1]/div/label')\n",
    "# Esperamos 3 segundos para que la página cargue completamente\n",
    "#sleep(3)"
   ]
  },
  {
   "cell_type": "code",
   "execution_count": 5,
   "metadata": {},
   "outputs": [
    {
     "ename": "NoSuchElementException",
     "evalue": "Message: no such element: Unable to locate element: {\"method\":\"xpath\",\"selector\":\"//*[@class=\"form-submit\"]/button\"}\n  (Session info: chrome=129.0.6668.101); For documentation on this error, please visit: https://www.selenium.dev/documentation/webdriver/troubleshooting/errors#no-such-element-exception\nStacktrace:\n\tGetHandleVerifier [0x00007FF62118B095+29557]\n\t(No symbol) [0x00007FF6210FFA50]\n\t(No symbol) [0x00007FF620FBB56A]\n\t(No symbol) [0x00007FF62100F695]\n\t(No symbol) [0x00007FF62100F8EC]\n\t(No symbol) [0x00007FF62105B777]\n\t(No symbol) [0x00007FF6210371CF]\n\t(No symbol) [0x00007FF62105851C]\n\t(No symbol) [0x00007FF621036F33]\n\t(No symbol) [0x00007FF62100116F]\n\t(No symbol) [0x00007FF6210022D1]\n\tGetHandleVerifier [0x00007FF6214BC96D+3378253]\n\tGetHandleVerifier [0x00007FF621508497+3688311]\n\tGetHandleVerifier [0x00007FF6214FD1CB+3642539]\n\tGetHandleVerifier [0x00007FF62124A6B6+813462]\n\t(No symbol) [0x00007FF62110AB5F]\n\t(No symbol) [0x00007FF621106B74]\n\t(No symbol) [0x00007FF621106D10]\n\t(No symbol) [0x00007FF6210F5C1F]\n\tBaseThreadInitThunk [0x00007FFE23E57374+20]\n\tRtlUserThreadStart [0x00007FFE2413CC91+33]\n",
     "output_type": "error",
     "traceback": [
      "\u001b[1;31m---------------------------------------------------------------------------\u001b[0m",
      "\u001b[1;31mNoSuchElementException\u001b[0m                    Traceback (most recent call last)",
      "Cell \u001b[1;32mIn[5], line 58\u001b[0m\n\u001b[0;32m     55\u001b[0m time\u001b[38;5;241m.\u001b[39msleep(\u001b[38;5;241m2\u001b[39m)\n\u001b[0;32m     57\u001b[0m \u001b[38;5;66;03m# Buscar el botón de búsqueda y hacer clic en él usando XPath\u001b[39;00m\n\u001b[1;32m---> 58\u001b[0m buscar_button \u001b[38;5;241m=\u001b[39m \u001b[43mdriver\u001b[49m\u001b[38;5;241;43m.\u001b[39;49m\u001b[43mfind_element\u001b[49m\u001b[43m(\u001b[49m\u001b[43mBy\u001b[49m\u001b[38;5;241;43m.\u001b[39;49m\u001b[43mXPATH\u001b[49m\u001b[43m,\u001b[49m\u001b[43m \u001b[49m\u001b[38;5;124;43m'\u001b[39;49m\u001b[38;5;124;43m//*[@class=\u001b[39;49m\u001b[38;5;124;43m\"\u001b[39;49m\u001b[38;5;124;43mform-submit\u001b[39;49m\u001b[38;5;124;43m\"\u001b[39;49m\u001b[38;5;124;43m]/button\u001b[39;49m\u001b[38;5;124;43m'\u001b[39;49m\u001b[43m)\u001b[49m\n\u001b[0;32m     59\u001b[0m buscar_button\u001b[38;5;241m.\u001b[39mclick()\n\u001b[0;32m     61\u001b[0m \u001b[38;5;66;03m# Esperar un tiempo para que los resultados carguen\u001b[39;00m\n",
      "File \u001b[1;32mc:\\Users\\Administrador\\anaconda3\\envs\\Proyecto_Viajes\\Lib\\site-packages\\selenium\\webdriver\\remote\\webdriver.py:748\u001b[0m, in \u001b[0;36mWebDriver.find_element\u001b[1;34m(self, by, value)\u001b[0m\n\u001b[0;32m    745\u001b[0m     by \u001b[38;5;241m=\u001b[39m By\u001b[38;5;241m.\u001b[39mCSS_SELECTOR\n\u001b[0;32m    746\u001b[0m     value \u001b[38;5;241m=\u001b[39m \u001b[38;5;124mf\u001b[39m\u001b[38;5;124m'\u001b[39m\u001b[38;5;124m[name=\u001b[39m\u001b[38;5;124m\"\u001b[39m\u001b[38;5;132;01m{\u001b[39;00mvalue\u001b[38;5;132;01m}\u001b[39;00m\u001b[38;5;124m\"\u001b[39m\u001b[38;5;124m]\u001b[39m\u001b[38;5;124m'\u001b[39m\n\u001b[1;32m--> 748\u001b[0m \u001b[38;5;28;01mreturn\u001b[39;00m \u001b[38;5;28;43mself\u001b[39;49m\u001b[38;5;241;43m.\u001b[39;49m\u001b[43mexecute\u001b[49m\u001b[43m(\u001b[49m\u001b[43mCommand\u001b[49m\u001b[38;5;241;43m.\u001b[39;49m\u001b[43mFIND_ELEMENT\u001b[49m\u001b[43m,\u001b[49m\u001b[43m \u001b[49m\u001b[43m{\u001b[49m\u001b[38;5;124;43m\"\u001b[39;49m\u001b[38;5;124;43musing\u001b[39;49m\u001b[38;5;124;43m\"\u001b[39;49m\u001b[43m:\u001b[49m\u001b[43m \u001b[49m\u001b[43mby\u001b[49m\u001b[43m,\u001b[49m\u001b[43m \u001b[49m\u001b[38;5;124;43m\"\u001b[39;49m\u001b[38;5;124;43mvalue\u001b[39;49m\u001b[38;5;124;43m\"\u001b[39;49m\u001b[43m:\u001b[49m\u001b[43m \u001b[49m\u001b[43mvalue\u001b[49m\u001b[43m}\u001b[49m\u001b[43m)\u001b[49m[\u001b[38;5;124m\"\u001b[39m\u001b[38;5;124mvalue\u001b[39m\u001b[38;5;124m\"\u001b[39m]\n",
      "File \u001b[1;32mc:\\Users\\Administrador\\anaconda3\\envs\\Proyecto_Viajes\\Lib\\site-packages\\selenium\\webdriver\\remote\\webdriver.py:354\u001b[0m, in \u001b[0;36mWebDriver.execute\u001b[1;34m(self, driver_command, params)\u001b[0m\n\u001b[0;32m    352\u001b[0m response \u001b[38;5;241m=\u001b[39m \u001b[38;5;28mself\u001b[39m\u001b[38;5;241m.\u001b[39mcommand_executor\u001b[38;5;241m.\u001b[39mexecute(driver_command, params)\n\u001b[0;32m    353\u001b[0m \u001b[38;5;28;01mif\u001b[39;00m response:\n\u001b[1;32m--> 354\u001b[0m     \u001b[38;5;28;43mself\u001b[39;49m\u001b[38;5;241;43m.\u001b[39;49m\u001b[43merror_handler\u001b[49m\u001b[38;5;241;43m.\u001b[39;49m\u001b[43mcheck_response\u001b[49m\u001b[43m(\u001b[49m\u001b[43mresponse\u001b[49m\u001b[43m)\u001b[49m\n\u001b[0;32m    355\u001b[0m     response[\u001b[38;5;124m\"\u001b[39m\u001b[38;5;124mvalue\u001b[39m\u001b[38;5;124m\"\u001b[39m] \u001b[38;5;241m=\u001b[39m \u001b[38;5;28mself\u001b[39m\u001b[38;5;241m.\u001b[39m_unwrap_value(response\u001b[38;5;241m.\u001b[39mget(\u001b[38;5;124m\"\u001b[39m\u001b[38;5;124mvalue\u001b[39m\u001b[38;5;124m\"\u001b[39m, \u001b[38;5;28;01mNone\u001b[39;00m))\n\u001b[0;32m    356\u001b[0m     \u001b[38;5;28;01mreturn\u001b[39;00m response\n",
      "File \u001b[1;32mc:\\Users\\Administrador\\anaconda3\\envs\\Proyecto_Viajes\\Lib\\site-packages\\selenium\\webdriver\\remote\\errorhandler.py:229\u001b[0m, in \u001b[0;36mErrorHandler.check_response\u001b[1;34m(self, response)\u001b[0m\n\u001b[0;32m    227\u001b[0m         alert_text \u001b[38;5;241m=\u001b[39m value[\u001b[38;5;124m\"\u001b[39m\u001b[38;5;124malert\u001b[39m\u001b[38;5;124m\"\u001b[39m]\u001b[38;5;241m.\u001b[39mget(\u001b[38;5;124m\"\u001b[39m\u001b[38;5;124mtext\u001b[39m\u001b[38;5;124m\"\u001b[39m)\n\u001b[0;32m    228\u001b[0m     \u001b[38;5;28;01mraise\u001b[39;00m exception_class(message, screen, stacktrace, alert_text)  \u001b[38;5;66;03m# type: ignore[call-arg]  # mypy is not smart enough here\u001b[39;00m\n\u001b[1;32m--> 229\u001b[0m \u001b[38;5;28;01mraise\u001b[39;00m exception_class(message, screen, stacktrace)\n",
      "\u001b[1;31mNoSuchElementException\u001b[0m: Message: no such element: Unable to locate element: {\"method\":\"xpath\",\"selector\":\"//*[@class=\"form-submit\"]/button\"}\n  (Session info: chrome=129.0.6668.101); For documentation on this error, please visit: https://www.selenium.dev/documentation/webdriver/troubleshooting/errors#no-such-element-exception\nStacktrace:\n\tGetHandleVerifier [0x00007FF62118B095+29557]\n\t(No symbol) [0x00007FF6210FFA50]\n\t(No symbol) [0x00007FF620FBB56A]\n\t(No symbol) [0x00007FF62100F695]\n\t(No symbol) [0x00007FF62100F8EC]\n\t(No symbol) [0x00007FF62105B777]\n\t(No symbol) [0x00007FF6210371CF]\n\t(No symbol) [0x00007FF62105851C]\n\t(No symbol) [0x00007FF621036F33]\n\t(No symbol) [0x00007FF62100116F]\n\t(No symbol) [0x00007FF6210022D1]\n\tGetHandleVerifier [0x00007FF6214BC96D+3378253]\n\tGetHandleVerifier [0x00007FF621508497+3688311]\n\tGetHandleVerifier [0x00007FF6214FD1CB+3642539]\n\tGetHandleVerifier [0x00007FF62124A6B6+813462]\n\t(No symbol) [0x00007FF62110AB5F]\n\t(No symbol) [0x00007FF621106B74]\n\t(No symbol) [0x00007FF621106D10]\n\t(No symbol) [0x00007FF6210F5C1F]\n\tBaseThreadInitThunk [0x00007FFE23E57374+20]\n\tRtlUserThreadStart [0x00007FFE2413CC91+33]\n"
     ]
    }
   ],
   "source": [
    "from selenium import webdriver\n",
    "from selenium.webdriver.common.by import By\n",
    "from selenium.webdriver.chrome.service import Service\n",
    "from selenium.webdriver.common.keys import Keys\n",
    "import time\n",
    "\n",
    "# Ruta al ChromeDriver (ajusta la ruta a donde lo hayas descargado)\n",
    "\n",
    "\n",
    "# Inicializar el navegador\n",
    "driver = webdriver.Chrome()\n",
    "\n",
    "# Navegar a la página de búsqueda de Iberia\n",
    "driver.get('https://www.iberia.com')\n",
    "\n",
    "# Esperar un poco para que la página cargue\n",
    "time.sleep(5)\n",
    "boton_cookies = driver.find_element(\"css selector\", '#onetrust-accept-btn-handler')\n",
    "boton_cookies.click()\n",
    "# Aceptar cookies si es necesario\n",
    "\n",
    "\n",
    "# Buscar el campo de origen y escribir \"Madrid\" usando XPath\n",
    "origen = driver.find_element(By.XPATH, '//*[@placeholder=\"Origen\"]')\n",
    "origen.clear()\n",
    "origen.send_keys('Madrid')\n",
    "time.sleep(1)\n",
    "origen.send_keys(Keys.ENTER)\n",
    "\n",
    "# Buscar el campo de destino y escribir \"Barcelona\" usando XPath\n",
    "destino = driver.find_element(By.XPATH, '//*[@placeholder=\"Destino\"]')\n",
    "destino.clear()\n",
    "destino.send_keys('Barcelona')\n",
    "time.sleep(1)\n",
    "destino.send_keys(Keys.ENTER)\n",
    "\n",
    "# Introducir la fecha de ida (21/10/2024) usando XPath\n",
    "fecha_ida = driver.find_element(By.XPATH, '//*[@id=\"flight_round_date1\"]')\n",
    "fecha_ida.clear()\n",
    "fecha_ida.send_keys('21/10/2024')\n",
    "time.sleep(1)\n",
    "fecha_ida.send_keys(Keys.ENTER)\n",
    "\n",
    "# Introducir la fecha de vuelta (23/10/2024) usando XPath\n",
    "fecha_vuelta = driver.find_element(By.XPATH, '//*[@id=\"flight_return_date1\"]')\n",
    "fecha_vuelta.clear()\n",
    "fecha_vuelta.send_keys('23/10/2024')\n",
    "time.sleep(1)\n",
    "fecha_vuelta.send_keys(Keys.ENTER)\n",
    "\n",
    "# Introducimos el numero de pasajeros,en este caso 2\n",
    "pasajeros_button = driver.find_element(By.XPATH, '//*[@id=\"flight_passengers1\"]')\n",
    "time.sleep(2)\n",
    "numero_pasajeros = driver.find_element(By.XPATH, '//*[@id=\"people-counter-1\"]/ul/li[2]/div[2]/button[2]')\n",
    "time.sleep(2)\n",
    "\n",
    "# Buscar el botón de búsqueda y hacer clic en él usando XPath\n",
    "buscar_button = driver.find_element(By.XPATH, '//*[@class=\"form-submit\"]/button')\n",
    "buscar_button.click()\n",
    "\n",
    "# Esperar un tiempo para que los resultados carguen\n",
    "time.sleep(10)\n",
    "\n",
    "# Aquí puedes añadir más código para extraer los resultados de los vuelos\n",
    "# Por ejemplo, buscar todos los elementos que contengan precios o información de vuelos\n",
    "# result_list = driver.find_elements(By.XPATH, 'xpath-del-elemento-que-contiene-los-precios')\n",
    "\n",
    "# Al finalizar, puedes cerrar el navegador\n",
    "driver.quit()\n"
   ]
  },
  {
   "cell_type": "code",
   "execution_count": 86,
   "metadata": {},
   "outputs": [
    {
     "data": {
      "text/plain": [
       "{'2410'}"
      ]
     },
     "execution_count": 86,
     "metadata": {},
     "output_type": "execute_result"
    }
   ],
   "source": [
    "{año+mes}"
   ]
  },
  {
   "cell_type": "code",
   "execution_count": 87,
   "metadata": {},
   "outputs": [
    {
     "data": {
      "text/plain": [
       "{15}"
      ]
     },
     "execution_count": 87,
     "metadata": {},
     "output_type": "execute_result"
    }
   ],
   "source": [
    "{int(dia)+3}"
   ]
  }
 ],
 "metadata": {
  "kernelspec": {
   "display_name": "Proyecto_Viajes",
   "language": "python",
   "name": "python3"
  },
  "language_info": {
   "codemirror_mode": {
    "name": "ipython",
    "version": 3
   },
   "file_extension": ".py",
   "mimetype": "text/x-python",
   "name": "python",
   "nbconvert_exporter": "python",
   "pygments_lexer": "ipython3",
   "version": "3.12.7"
  }
 },
 "nbformat": 4,
 "nbformat_minor": 2
}
