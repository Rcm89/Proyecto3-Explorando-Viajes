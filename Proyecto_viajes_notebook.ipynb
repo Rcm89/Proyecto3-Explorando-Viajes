{
 "cells": [
  {
   "cell_type": "code",
   "execution_count": 30,
   "metadata": {},
   "outputs": [],
   "source": [
    "# Importamos las librerías que previsiblemente necesitaremos\n",
    "import pandas as pd\n",
    "import numpy as np\n",
    "# from src.support import obtener_df_coordenadas, buscar_lugares, obtener_servicios_municipios\n",
    "# Uso de API's\n",
    "# -----------------------------------------------------------------------\n",
    "import requests\n",
    "\n",
    "# Para incluir una barra de proceso en for loops\n",
    "# -----------------------------------------------------------------------\n",
    "from tqdm import tqdm\n",
    "\n",
    "\n",
    "# Para introducir tiempo entre las llamadas\n",
    "# -----------------------------------------------------------------------\n",
    "from time import sleep\n",
    "\n",
    "\n",
    "# Para trabajar con archivos dotenv y los tokens\n",
    "# -----------------------------------------------------------------------\n",
    "import os\n",
    "import dotenv\n",
    "dotenv.load_dotenv()\n",
    "\n",
    "# Importamos BeautifulSoup\n",
    "# ------------------------------------------------------------------------\n",
    "from bs4 import BeautifulSoup \n",
    "#from src import soporte_beautifullsoup as sb\n",
    "\n",
    "# librerias adicionales\n",
    "from time import sleep\n",
    "import random\n",
    "import datetime\n",
    "\n",
    "# Importar librerías para automatización de navegadores web con Selenium\n",
    "# -----------------------------------------------------------------------\n",
    "from selenium import webdriver  # Selenium es una herramienta para automatizar la interacción con navegadores web.\n",
    "from webdriver_manager.chrome import ChromeDriverManager  # ChromeDriverManager gestiona la instalación del controlador de Chrome.\n",
    "from selenium.webdriver.common.keys import Keys  # Keys es útil para simular eventos de teclado en Selenium.\n",
    "from selenium.webdriver.support.ui import Select  # Select se utiliza para interactuar con elementos <select> en páginas web.\n",
    "from selenium.webdriver.support.ui import WebDriverWait\n",
    "from selenium.webdriver.support import expected_conditions as EC\n",
    "from selenium.common.exceptions import NoSuchElementException # Excepciones comunes de selenium que nos podemos encontrar "
   ]
  },
  {
   "cell_type": "markdown",
   "metadata": {},
   "source": [
    "# **ANÁLISIS EDA**"
   ]
  },
  {
   "cell_type": "markdown",
   "metadata": {},
   "source": [
    "## **Contexto**"
   ]
  },
  {
   "cell_type": "markdown",
   "metadata": {},
   "source": [
    "El presente análsiis parte de que somos una empresa organizadora de viajes, y nuestros clientes son Juan y Sara, una pareja, que quiere irse del 22 al 24 de Noviembre, de viaje para desconectar. Han pensado que quiere ir a Barcelona o a Santiago de Compostela. \n",
    "\n",
    "No quieren gastar mucho, por eso quieren billetes en clase turista, y quieren que nosotros les demos información sobre hoteles y actividades (les interesan las típicas actividades turisticas, pues no conocen a fondo ninguna de las dos ciudades), en base a la cual decidirán por cual destino se decantan.\n",
    "\n",
    "En base a estas premisas, nostros, mediante escrapeo de la web de civitatis, y uso de las APIS de tripadvisor y Skyscraper (ambas de rapidapi) hemos recabado una serie de datos, con los que reaizar nuestro análisis."
   ]
  },
  {
   "cell_type": "markdown",
   "metadata": {},
   "source": [
    "## **EDA**"
   ]
  },
  {
   "cell_type": "markdown",
   "metadata": {},
   "source": []
  }
 ],
 "metadata": {
  "kernelspec": {
   "display_name": "Proyecto_Viajes",
   "language": "python",
   "name": "python3"
  },
  "language_info": {
   "codemirror_mode": {
    "name": "ipython",
    "version": 3
   },
   "file_extension": ".py",
   "mimetype": "text/x-python",
   "name": "python",
   "nbconvert_exporter": "python",
   "pygments_lexer": "ipython3",
   "version": "3.12.7"
  }
 },
 "nbformat": 4,
 "nbformat_minor": 2
}
